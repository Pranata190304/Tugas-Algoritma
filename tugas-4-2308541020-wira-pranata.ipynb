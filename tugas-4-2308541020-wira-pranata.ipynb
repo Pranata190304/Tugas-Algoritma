{
 "cells": [
  {
   "cell_type": "code",
   "execution_count": 1,
   "id": "e90a1096",
   "metadata": {
    "execution": {
     "iopub.execute_input": "2024-04-16T09:42:30.775215Z",
     "iopub.status.busy": "2024-04-16T09:42:30.774448Z",
     "iopub.status.idle": "2024-04-16T09:42:30.789533Z",
     "shell.execute_reply": "2024-04-16T09:42:30.787720Z"
    },
    "papermill": {
     "duration": 0.022884,
     "end_time": "2024-04-16T09:42:30.792621",
     "exception": false,
     "start_time": "2024-04-16T09:42:30.769737",
     "status": "completed"
    },
    "tags": []
   },
   "outputs": [
    {
     "name": "stdout",
     "output_type": "stream",
     "text": [
      "['Supra', 'Ferrari', 'Maserati', 'Pagani']\n",
      "4\n",
      "Ferrari\n",
      "Maserati\n",
      "Supra\n",
      "['Supra', 'Ferrari']\n",
      "Maserati\n",
      "Pagani\n"
     ]
    }
   ],
   "source": [
    "nama = ['Ferrari', 'Lamborghini', 'Maserati']\n",
    "nama.append('Pagani')\n",
    "nama.insert(0, 'Supra')\n",
    "nama.remove('Lamborghini')\n",
    "print(nama)\n",
    "print(len(nama))\n",
    "print(nama[1])\n",
    "print(nama[2])\n",
    "print(nama[0])\n",
    "print(nama[0:2])\n",
    "print(nama[-2])\n",
    "print(nama[-1])"
   ]
  },
  {
   "cell_type": "code",
   "execution_count": 2,
   "id": "565a9e15",
   "metadata": {
    "execution": {
     "iopub.execute_input": "2024-04-16T09:42:30.799591Z",
     "iopub.status.busy": "2024-04-16T09:42:30.798949Z",
     "iopub.status.idle": "2024-04-16T09:42:30.805795Z",
     "shell.execute_reply": "2024-04-16T09:42:30.804449Z"
    },
    "papermill": {
     "duration": 0.013005,
     "end_time": "2024-04-16T09:42:30.808659",
     "exception": false,
     "start_time": "2024-04-16T09:42:30.795654",
     "status": "completed"
    },
    "tags": []
   },
   "outputs": [
    {
     "name": "stdout",
     "output_type": "stream",
     "text": [
      "Toyota\n",
      "Honda\n",
      "BMW\n",
      "Mercedes\n"
     ]
    }
   ],
   "source": [
    "merek_mobil = ['Toyota', 'Honda', 'BMW', 'Mercedes']\n",
    "for merek in merek_mobil:\n",
    "    print(merek)"
   ]
  }
 ],
 "metadata": {
  "kaggle": {
   "accelerator": "none",
   "dataSources": [],
   "dockerImageVersionId": 30684,
   "isGpuEnabled": false,
   "isInternetEnabled": false,
   "language": "python",
   "sourceType": "notebook"
  },
  "kernelspec": {
   "display_name": "Python 3",
   "language": "python",
   "name": "python3"
  },
  "language_info": {
   "codemirror_mode": {
    "name": "ipython",
    "version": 3
   },
   "file_extension": ".py",
   "mimetype": "text/x-python",
   "name": "python",
   "nbconvert_exporter": "python",
   "pygments_lexer": "ipython3",
   "version": "3.10.13"
  },
  "papermill": {
   "default_parameters": {},
   "duration": 3.585067,
   "end_time": "2024-04-16T09:42:31.332061",
   "environment_variables": {},
   "exception": null,
   "input_path": "__notebook__.ipynb",
   "output_path": "__notebook__.ipynb",
   "parameters": {},
   "start_time": "2024-04-16T09:42:27.746994",
   "version": "2.5.0"
  }
 },
 "nbformat": 4,
 "nbformat_minor": 5
}
