{
 "cells": [
  {
   "cell_type": "code",
   "execution_count": 1,
   "id": "48c06a75",
   "metadata": {
    "_cell_guid": "b1076dfc-b9ad-4769-8c92-a6c4dae69d19",
    "_uuid": "8f2839f25d086af736a60e9eeb907d3b93b6e0e5",
    "execution": {
     "iopub.execute_input": "2024-06-18T13:16:02.424175Z",
     "iopub.status.busy": "2024-06-18T13:16:02.423713Z",
     "iopub.status.idle": "2024-06-18T13:16:02.443467Z",
     "shell.execute_reply": "2024-06-18T13:16:02.441731Z"
    },
    "papermill": {
     "duration": 0.026672,
     "end_time": "2024-06-18T13:16:02.445671",
     "exception": true,
     "start_time": "2024-06-18T13:16:02.418999",
     "status": "failed"
    },
    "tags": []
   },
   "outputs": [
    {
     "ename": "SyntaxError",
     "evalue": "cannot assign to expression here. Maybe you meant '==' instead of '='? (3746909921.py, line 21)",
     "output_type": "error",
     "traceback": [
      "\u001b[0;36m  Cell \u001b[0;32mIn[1], line 21\u001b[0;36m\u001b[0m\n\u001b[0;31m    x**2 = 1-x\u001b[0m\n\u001b[0m    ^\u001b[0m\n\u001b[0;31mSyntaxError\u001b[0m\u001b[0;31m:\u001b[0m cannot assign to expression here. Maybe you meant '==' instead of '='?\n"
     ]
    }
   ],
   "source": [
    "import math \n",
    "\n",
    "\n",
    "# diketahui X yang memenuhi persamaan x^2 + x - 1 = 0 \n",
    "\n",
    "a = 1\n",
    "b = 1\n",
    "c = -1\n",
    "\n",
    "# untuk mempermudah mencari x dapat menggunakan diskriminan(D)\n",
    "D = b**2 - 4*a*c\n",
    "\n",
    "x1 = (-b + math.sqrt(D)) / (2*a)\n",
    "x2 = (-b - math.sqrt(D)) / (2*a)\n",
    " \n",
    "print(x1)\n",
    "print(x2)\n",
    "\n",
    "# diketahui x^2024 - x^2025 = (x(1 - x))^n\n",
    "\n",
    "x**2 = 1-x\n",
    "\n",
    "n_1 = log ((x1)**2024 - (x1)**2025) / log(x1 (1 - x1))\n",
    "n_2 = log ((x2)**2024 - (x2)**2025) / log(x2 (1 - x2))\n",
    "\n",
    "print(n_1)\n",
    "print(n_2)\n"
   ]
  },
  {
   "cell_type": "code",
   "execution_count": null,
   "id": "da9ee3bb",
   "metadata": {
    "execution": {
     "iopub.execute_input": "2024-06-18T12:21:40.069636Z",
     "iopub.status.busy": "2024-06-18T12:21:40.069206Z",
     "iopub.status.idle": "2024-06-18T12:21:40.105744Z",
     "shell.execute_reply": "2024-06-18T12:21:40.104195Z",
     "shell.execute_reply.started": "2024-06-18T12:21:40.069605Z"
    },
    "papermill": {
     "duration": null,
     "end_time": null,
     "exception": null,
     "start_time": null,
     "status": "pending"
    },
    "tags": []
   },
   "outputs": [],
   "source": [
    "import math\n",
    "\n",
    "# diketahui X yang memenuhi persamaan x^2 + x - 1 = 0\n",
    "a = 1\n",
    "b = 1\n",
    "c = -1\n",
    "\n",
    "# Hitung akar-akar persamaan kuadrat\n",
    "D = b**2 - 4*a*c\n",
    "x1 = (-b + math.sqrt(D)) / (2*a)\n",
    "x2 = (-b - math.sqrt(D)) / (2*a)\n",
    "\n",
    "print(\"Akar pertama:\", x1)\n",
    "print(\"Akar kedua:\", x2)\n",
    "\n",
    "# Periksa apakah akar-akar berada dalam rentang (0, 1)\n",
    "if 0 < x1 < 1:\n",
    "    n1 = math.log((x1**2024 - x1**2025)) / math.log(x1 * (1 - x1))\n",
    "    print(\"Nilai n untuk x1:\", n1)\n",
    "else:\n",
    "    print(\"Akar x1 berada di luar rentang yang valid (0, 1).\")\n",
    "\n",
    "if 0 < x2 < 1:\n",
    "    n2 = math.log((x2**2024 - x2**2025)) / math.log(x2 * (1 - x2))\n",
    "    print(\"Nilai n untuk x2:\", n2)\n",
    "else:\n",
    "    print(\"Akar x2 berada di luar rentang yang valid (0, 1).\")\n"
   ]
  },
  {
   "cell_type": "code",
   "execution_count": null,
   "id": "cfb120dc",
   "metadata": {
    "execution": {
     "iopub.execute_input": "2024-06-18T12:38:04.450513Z",
     "iopub.status.busy": "2024-06-18T12:38:04.450083Z",
     "iopub.status.idle": "2024-06-18T12:38:04.487567Z",
     "shell.execute_reply": "2024-06-18T12:38:04.485114Z",
     "shell.execute_reply.started": "2024-06-18T12:38:04.450482Z"
    },
    "papermill": {
     "duration": null,
     "end_time": null,
     "exception": null,
     "start_time": null,
     "status": "pending"
    },
    "tags": []
   },
   "outputs": [],
   "source": [
    "import math\n",
    "\n",
    "# Hitung akar-akar persamaan kuadrat x^2 + x - 1 = 0\n",
    "a = 1\n",
    "b = 1\n",
    "c = -1\n",
    "\n",
    "D = b**2 - 4*a*c\n",
    "x1 = (-b + math.sqrt(D)) / (2*a)\n",
    "x2 = (-b - math.sqrt(D)) / (2*a)\n",
    "\n",
    "print(x1)\n",
    "print(x2)\n",
    "\n",
    "n = math.log(x**2024 - x**2025) / math.log(x * (1 - x))\n",
    "\n"
   ]
  }
 ],
 "metadata": {
  "kaggle": {
   "accelerator": "none",
   "dataSources": [],
   "dockerImageVersionId": 30732,
   "isGpuEnabled": false,
   "isInternetEnabled": false,
   "language": "python",
   "sourceType": "notebook"
  },
  "kernelspec": {
   "display_name": "Python 3",
   "language": "python",
   "name": "python3"
  },
  "language_info": {
   "codemirror_mode": {
    "name": "ipython",
    "version": 3
   },
   "file_extension": ".py",
   "mimetype": "text/x-python",
   "name": "python",
   "nbconvert_exporter": "python",
   "pygments_lexer": "ipython3",
   "version": "3.10.13"
  },
  "papermill": {
   "default_parameters": {},
   "duration": 3.802316,
   "end_time": "2024-06-18T13:16:02.870025",
   "environment_variables": {},
   "exception": true,
   "input_path": "__notebook__.ipynb",
   "output_path": "__notebook__.ipynb",
   "parameters": {},
   "start_time": "2024-06-18T13:15:59.067709",
   "version": "2.5.0"
  }
 },
 "nbformat": 4,
 "nbformat_minor": 5
}
