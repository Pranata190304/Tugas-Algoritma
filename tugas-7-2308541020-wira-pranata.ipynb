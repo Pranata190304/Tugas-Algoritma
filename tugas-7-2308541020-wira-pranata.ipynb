{
 "cells": [
  {
   "cell_type": "code",
   "execution_count": 1,
   "id": "01a46a93",
   "metadata": {
    "execution": {
     "iopub.execute_input": "2024-04-30T12:28:54.043571Z",
     "iopub.status.busy": "2024-04-30T12:28:54.043214Z",
     "iopub.status.idle": "2024-04-30T12:28:54.056520Z",
     "shell.execute_reply": "2024-04-30T12:28:54.055303Z"
    },
    "papermill": {
     "duration": 0.020378,
     "end_time": "2024-04-30T12:28:54.059503",
     "exception": false,
     "start_time": "2024-04-30T12:28:54.039125",
     "status": "completed"
    },
    "tags": []
   },
   "outputs": [
    {
     "name": "stdout",
     "output_type": "stream",
     "text": [
      "[0 1 2 3 4]\n"
     ]
    }
   ],
   "source": [
    "import numpy as np\n",
    "a_20 = np.array ([0,1,2,3,4])\n",
    "print(a_20)"
   ]
  },
  {
   "cell_type": "code",
   "execution_count": 2,
   "id": "81891147",
   "metadata": {
    "execution": {
     "iopub.execute_input": "2024-04-30T12:28:54.064899Z",
     "iopub.status.busy": "2024-04-30T12:28:54.064195Z",
     "iopub.status.idle": "2024-04-30T12:28:54.354933Z",
     "shell.execute_reply": "2024-04-30T12:28:54.353575Z"
    },
    "papermill": {
     "duration": 0.295257,
     "end_time": "2024-04-30T12:28:54.356723",
     "exception": true,
     "start_time": "2024-04-30T12:28:54.061466",
     "status": "failed"
    },
    "tags": []
   },
   "outputs": [
    {
     "name": "stdout",
     "output_type": "stream",
     "text": [
      "Array Anggi:\n"
     ]
    },
    {
     "ename": "NameError",
     "evalue": "name 'arr1' is not defined",
     "output_type": "error",
     "traceback": [
      "\u001b[0;31m---------------------------------------------------------------------------\u001b[0m",
      "\u001b[0;31mNameError\u001b[0m                                 Traceback (most recent call last)",
      "Cell \u001b[0;32mIn[2], line 7\u001b[0m\n\u001b[1;32m      5\u001b[0m \u001b[38;5;66;03m# Menampilkan array\u001b[39;00m\n\u001b[1;32m      6\u001b[0m \u001b[38;5;28mprint\u001b[39m(\u001b[38;5;124m\"\u001b[39m\u001b[38;5;124mArray Anggi:\u001b[39m\u001b[38;5;124m\"\u001b[39m)\n\u001b[0;32m----> 7\u001b[0m \u001b[38;5;28mprint\u001b[39m(\u001b[43marr1\u001b[49m)\n\u001b[1;32m      8\u001b[0m \u001b[38;5;28mprint\u001b[39m(\u001b[38;5;124m\"\u001b[39m\u001b[38;5;130;01m\\n\u001b[39;00m\u001b[38;5;124mArray Rivat:\u001b[39m\u001b[38;5;124m\"\u001b[39m)\n\u001b[1;32m      9\u001b[0m \u001b[38;5;28mprint\u001b[39m(arr2)\n",
      "\u001b[0;31mNameError\u001b[0m: name 'arr1' is not defined"
     ]
    }
   ],
   "source": [
    "import numpy as np\n",
    "# Membuat array NumPy\n",
    "a_20 = np.array([[2, 4, 6], [1, 3, 5]])\n",
    "a_20 = np.array([[2, 3, 5], [1,2,3]])\n",
    "# Menampilkan array\n",
    "print(\"Array Anggi:\")\n",
    "print(arr1)\n",
    "print(\"\\nArray Rivat:\")\n",
    "print(arr2)\n",
    "# Operasi penjumlahan\n",
    "result_add = np.add(arr1, arr2)\n",
    "print(\"\\nHasil Penjumlahan:\")\n",
    "print(result_add)\n",
    "# Operasi pengurangan\n",
    "result_subtract = np.subtract(arr1, arr2)\n",
    "print(\"\\nHasil Pengurangan:\")\n",
    "print(result_subtract)\n",
    "# Operasi perkalian\n",
    "result_multiply = np.multiply(arr1, arr2)\n",
    "print(\"\\nHasil Perkalian:\")\n",
    "print(result_multiply)\n",
    "# Operasi pembagian\n",
    "result_divide = np.divide(arr1, arr2)\n",
    "print(\"\\nHasil Pembagian:\")\n",
    "print(result_divide)\n",
    "# Operasi perkalian matriks\n",
    "matrix_product = np.dot(arr1, arr2.T)  \n",
    "print(\"\\nHasil Perkalian Matriks:\")\n",
    "print(matrix_product)"
   ]
  }
 ],
 "metadata": {
  "kaggle": {
   "accelerator": "none",
   "dataSources": [],
   "dockerImageVersionId": 30698,
   "isGpuEnabled": false,
   "isInternetEnabled": false,
   "language": "python",
   "sourceType": "notebook"
  },
  "kernelspec": {
   "display_name": "Python 3",
   "language": "python",
   "name": "python3"
  },
  "language_info": {
   "codemirror_mode": {
    "name": "ipython",
    "version": 3
   },
   "file_extension": ".py",
   "mimetype": "text/x-python",
   "name": "python",
   "nbconvert_exporter": "python",
   "pygments_lexer": "ipython3",
   "version": "3.10.13"
  },
  "papermill": {
   "default_parameters": {},
   "duration": 3.46281,
   "end_time": "2024-04-30T12:28:54.777799",
   "environment_variables": {},
   "exception": true,
   "input_path": "__notebook__.ipynb",
   "output_path": "__notebook__.ipynb",
   "parameters": {},
   "start_time": "2024-04-30T12:28:51.314989",
   "version": "2.5.0"
  }
 },
 "nbformat": 4,
 "nbformat_minor": 5
}
