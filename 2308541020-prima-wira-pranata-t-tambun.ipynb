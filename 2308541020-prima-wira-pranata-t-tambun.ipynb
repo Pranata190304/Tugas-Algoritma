{
 "cells": [
  {
   "cell_type": "code",
   "execution_count": 1,
   "id": "288f7ea3",
   "metadata": {
    "_cell_guid": "b1076dfc-b9ad-4769-8c92-a6c4dae69d19",
    "_uuid": "8f2839f25d086af736a60e9eeb907d3b93b6e0e5",
    "execution": {
     "iopub.execute_input": "2024-06-25T13:35:37.794658Z",
     "iopub.status.busy": "2024-06-25T13:35:37.794180Z",
     "iopub.status.idle": "2024-06-25T13:35:38.983228Z",
     "shell.execute_reply": "2024-06-25T13:35:38.981149Z"
    },
    "papermill": {
     "duration": 1.197343,
     "end_time": "2024-06-25T13:35:38.986699",
     "exception": false,
     "start_time": "2024-06-25T13:35:37.789356",
     "status": "completed"
    },
    "tags": []
   },
   "outputs": [],
   "source": [
    "# This Python 3 environment comes with many helpful analytics libraries installed\n",
    "# It is defined by the kaggle/python Docker image: https://github.com/kaggle/docker-python\n",
    "# For example, here's several helpful packages to load\n",
    "\n",
    "import numpy as np # linear algebra\n",
    "import pandas as pd # data processing, CSV file I/O (e.g. pd.read_csv)\n",
    "\n",
    "# Input data files are available in the read-only \"../input/\" directory\n",
    "# For example, running this (by clicking run or pressing Shift+Enter) will list all files under the input directory\n",
    "\n",
    "import os\n",
    "for dirname, _, filenames in os.walk('/kaggle/input'):\n",
    "    for filename in filenames:\n",
    "        print(os.path.join(dirname, filename))\n",
    "\n",
    "# You can write up to 20GB to the current directory (/kaggle/working/) that gets preserved as output when you create a version using \"Save & Run All\" \n",
    "# You can also write temporary files to /kaggle/temp/, but they won't be saved outside of the current session"
   ]
  },
  {
   "cell_type": "code",
   "execution_count": 2,
   "id": "74d791e0",
   "metadata": {
    "execution": {
     "iopub.execute_input": "2024-06-25T13:35:38.995111Z",
     "iopub.status.busy": "2024-06-25T13:35:38.994456Z",
     "iopub.status.idle": "2024-06-25T13:35:39.008418Z",
     "shell.execute_reply": "2024-06-25T13:35:39.007068Z"
    },
    "papermill": {
     "duration": 0.021212,
     "end_time": "2024-06-25T13:35:39.011474",
     "exception": false,
     "start_time": "2024-06-25T13:35:38.990262",
     "status": "completed"
    },
    "tags": []
   },
   "outputs": [
    {
     "name": "stdout",
     "output_type": "stream",
     "text": [
      "[20011, 20021, 20023, 20029, 20047, 20051, 20063, 20071, 20089, 20101, 20107, 20113, 20117, 20123, 20129, 20143, 20147, 20149, 20161, 20173, 20177, 20183, 20201, 20219, 20231, 20233, 20249, 20261, 20269, 20287, 20297, 20323, 20327, 20333, 20341, 20347, 20353, 20357, 20359, 20369, 20389, 20393, 20399, 20407, 20411, 20431, 20441, 20443, 20477, 20479, 20483, 20507, 20509, 20521, 20533, 20543, 20549, 20551, 20563, 20593, 20599, 20611, 20627, 20639, 20641, 20663, 20681, 20693, 20707, 20717, 20719, 20731, 20743, 20747, 20749, 20753, 20759, 20771, 20773, 20789, 20807, 20809, 20849, 20857, 20873, 20879, 20887, 20897, 20899, 20903, 20921, 20929, 20939, 20947, 20959, 20963, 20981, 20983]\n"
     ]
    }
   ],
   "source": [
    "def is_prime(n_20):\n",
    "    if n_20 <= 1:\n",
    "        return False\n",
    "    if n_20 <= 3:\n",
    "        return True\n",
    "    if n_20 % 2 == 0 or n_20 % 3 == 0:\n",
    "        return False\n",
    "    i = 5\n",
    "    while i * i <= n_20:\n",
    "        if n_20 % i == 0 or n_20 % (i + 2) == 0:\n",
    "            return False\n",
    "        i += 6\n",
    "    return True\n",
    "def find_primes_in_range(start, end):\n",
    "    primes = []\n",
    "    for num in range(start, end + 1):\n",
    "        if is_prime(num):\n",
    "            primes.append(num)\n",
    "    return primes\n",
    "start = 1000 * 20\n",
    "end = 1000 * (20 + 1)\n",
    "primes_in_range = find_primes_in_range(start, end)\n",
    "print(primes_in_range)"
   ]
  },
  {
   "cell_type": "code",
   "execution_count": null,
   "id": "7154dbea",
   "metadata": {
    "papermill": {
     "duration": 0.002305,
     "end_time": "2024-06-25T13:35:39.016492",
     "exception": false,
     "start_time": "2024-06-25T13:35:39.014187",
     "status": "completed"
    },
    "tags": []
   },
   "outputs": [],
   "source": []
  }
 ],
 "metadata": {
  "kaggle": {
   "accelerator": "none",
   "dataSources": [],
   "dockerImageVersionId": 30732,
   "isGpuEnabled": false,
   "isInternetEnabled": false,
   "language": "python",
   "sourceType": "notebook"
  },
  "kernelspec": {
   "display_name": "Python 3",
   "language": "python",
   "name": "python3"
  },
  "language_info": {
   "codemirror_mode": {
    "name": "ipython",
    "version": 3
   },
   "file_extension": ".py",
   "mimetype": "text/x-python",
   "name": "python",
   "nbconvert_exporter": "python",
   "pygments_lexer": "ipython3",
   "version": "3.10.13"
  },
  "papermill": {
   "default_parameters": {},
   "duration": 6.049691,
   "end_time": "2024-06-25T13:35:39.645661",
   "environment_variables": {},
   "exception": null,
   "input_path": "__notebook__.ipynb",
   "output_path": "__notebook__.ipynb",
   "parameters": {},
   "start_time": "2024-06-25T13:35:33.595970",
   "version": "2.5.0"
  }
 },
 "nbformat": 4,
 "nbformat_minor": 5
}
