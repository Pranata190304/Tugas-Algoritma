{
 "cells": [
  {
   "cell_type": "code",
   "execution_count": 1,
   "id": "8f75854b",
   "metadata": {
    "execution": {
     "iopub.execute_input": "2024-04-30T13:59:46.659614Z",
     "iopub.status.busy": "2024-04-30T13:59:46.658312Z",
     "iopub.status.idle": "2024-04-30T13:59:46.677076Z",
     "shell.execute_reply": "2024-04-30T13:59:46.675614Z"
    },
    "papermill": {
     "duration": 0.026515,
     "end_time": "2024-04-30T13:59:46.679868",
     "exception": false,
     "start_time": "2024-04-30T13:59:46.653353",
     "status": "completed"
    },
    "tags": []
   },
   "outputs": [
    {
     "name": "stdout",
     "output_type": "stream",
     "text": [
      "[0 1 2 3 4]\n"
     ]
    }
   ],
   "source": [
    "import numpy as np\n",
    "a_20 = np.array ([0,1,2,3,4])\n",
    "print(a_20)"
   ]
  },
  {
   "cell_type": "code",
   "execution_count": 2,
   "id": "e57176cd",
   "metadata": {
    "execution": {
     "iopub.execute_input": "2024-04-30T13:59:46.686791Z",
     "iopub.status.busy": "2024-04-30T13:59:46.686273Z",
     "iopub.status.idle": "2024-04-30T13:59:46.701551Z",
     "shell.execute_reply": "2024-04-30T13:59:46.700582Z"
    },
    "papermill": {
     "duration": 0.02152,
     "end_time": "2024-04-30T13:59:46.704097",
     "exception": false,
     "start_time": "2024-04-30T13:59:46.682577",
     "status": "completed"
    },
    "tags": []
   },
   "outputs": [
    {
     "name": "stdout",
     "output_type": "stream",
     "text": [
      "Array pertama:\n",
      "[[2 4 6]\n",
      " [1 3 5]]\n",
      "\n",
      "Array kedua:\n",
      "[[ 7  8  9]\n",
      " [10 11 12]]\n",
      "\n",
      "Hasil Penjumlahan:\n",
      "[[ 9 12 15]\n",
      " [11 14 17]]\n",
      "\n",
      "Hasil Pengurangan:\n",
      "[[-5 -4 -3]\n",
      " [-9 -8 -7]]\n",
      "\n",
      "Hasil Perkalian:\n",
      "[[14 32 54]\n",
      " [10 33 60]]\n",
      "\n",
      "Hasil Pembagian:\n",
      "[[0.28571429 0.5        0.66666667]\n",
      " [0.1        0.27272727 0.41666667]]\n",
      "\n",
      "Hasil Perkalian Matriks:\n",
      "[[100 136]\n",
      " [ 76 103]]\n"
     ]
    }
   ],
   "source": [
    "import numpy as np\n",
    "# Membuat array NumPy\n",
    "arr1 = np.array([[2, 4, 6], [1, 3, 5]])\n",
    "arr2 = np.array([[7, 8, 9], [10, 11, 12]])\n",
    "# Menampilkan array\n",
    "print(\"Array pertama:\")\n",
    "print(arr1)\n",
    "print(\"\\nArray kedua:\")\n",
    "print(arr2)\n",
    "# Operasi penjumlahan\n",
    "result_add = np.add(arr1, arr2)\n",
    "print(\"\\nHasil Penjumlahan:\")\n",
    "print(result_add)\n",
    "# Operasi pengurangan\n",
    "result_subtract = np.subtract(arr1, arr2)\n",
    "print(\"\\nHasil Pengurangan:\")\n",
    "print(result_subtract)\n",
    "# Operasi perkalian\n",
    "result_multiply = np.multiply(arr1, arr2)\n",
    "print(\"\\nHasil Perkalian:\")\n",
    "print(result_multiply)\n",
    "# Operasi pembagian\n",
    "result_divide = np.divide(arr1, arr2)\n",
    "print(\"\\nHasil Pembagian:\")\n",
    "print(result_divide)\n",
    "# Operasi perkalian matriks\n",
    "matrix_product = np.dot(arr1, arr2.T)  \n",
    "print(\"\\nHasil Perkalian Matriks:\")\n",
    "print(matrix_product)"
   ]
  }
 ],
 "metadata": {
  "kaggle": {
   "accelerator": "none",
   "dataSources": [],
   "dockerImageVersionId": 30698,
   "isGpuEnabled": false,
   "isInternetEnabled": false,
   "language": "python",
   "sourceType": "notebook"
  },
  "kernelspec": {
   "display_name": "Python 3",
   "language": "python",
   "name": "python3"
  },
  "language_info": {
   "codemirror_mode": {
    "name": "ipython",
    "version": 3
   },
   "file_extension": ".py",
   "mimetype": "text/x-python",
   "name": "python",
   "nbconvert_exporter": "python",
   "pygments_lexer": "ipython3",
   "version": "3.10.13"
  },
  "papermill": {
   "default_parameters": {},
   "duration": 4.04275,
   "end_time": "2024-04-30T13:59:47.228757",
   "environment_variables": {},
   "exception": null,
   "input_path": "__notebook__.ipynb",
   "output_path": "__notebook__.ipynb",
   "parameters": {},
   "start_time": "2024-04-30T13:59:43.186007",
   "version": "2.5.0"
  }
 },
 "nbformat": 4,
 "nbformat_minor": 5
}
